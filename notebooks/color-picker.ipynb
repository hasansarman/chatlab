{
 "cells": [
  {
   "cell_type": "code",
   "execution_count": 1,
   "metadata": {},
   "outputs": [],
   "source": [
    "from chatlab import Chat, models, system\n",
    "from chatlab.builtins.colors import show_colors\n",
    "\n",
    "chat = Chat(\n",
    "    system(\"Format responses in markdown. You are a skilled designer.\"),\n",
    "    chat_functions=[show_colors],\n",
    "    model=models.GPT_4_1106_PREVIEW,\n",
    ")"
   ]
  },
  {
   "cell_type": "code",
   "execution_count": 2,
   "metadata": {},
   "outputs": [
    {
     "data": {
      "text/html": [
       "<div><div style=\"background-color:#0D1B2A; width:50px; height:50px; display:inline-block;\"></div><div style=\"background-color:#1B263B; width:50px; height:50px; display:inline-block;\"></div><div style=\"background-color:#415A77; width:50px; height:50px; display:inline-block;\"></div><div style=\"background-color:#778DA9; width:50px; height:50px; display:inline-block;\"></div><div style=\"background-color:#E0E1DD; width:50px; height:50px; display:inline-block;\"></div></div>"
      ],
      "text/plain": [
       "Palette(['#0D1B2A', '#1B263B', '#415A77', '#778DA9', '#E0E1DD'], dark_palette_1)"
      ]
     },
     "metadata": {},
     "output_type": "display_data"
    },
    {
     "data": {
      "text/html": [
       "<div><div style=\"background-color:#1A1A2E; width:50px; height:50px; display:inline-block;\"></div><div style=\"background-color:#16213E; width:50px; height:50px; display:inline-block;\"></div><div style=\"background-color:#0F3460; width:50px; height:50px; display:inline-block;\"></div><div style=\"background-color:#53354A; width:50px; height:50px; display:inline-block;\"></div><div style=\"background-color:#E94560; width:50px; height:50px; display:inline-block;\"></div></div>"
      ],
      "text/plain": [
       "Palette(['#1A1A2E', '#16213E', '#0F3460', '#53354A', '#E94560'], dark_palette_2)"
      ]
     },
     "metadata": {},
     "output_type": "display_data"
    },
    {
     "data": {
      "text/markdown": [
       "I have created two color palettes for your portfolio site with a dark theme:\n",
       "\n",
       "### Palette 1\n",
       "- ![#0D1B2A](https://via.placeholder.com/15/0D1B2A/0D1B2A.png) `#0D1B2A` (Gunmetal)\n",
       "- ![#1B263B](https://via.placeholder.com/15/1B263B/1B263B.png) `#1B263B` (Dark Blue Gray)\n",
       "- ![#415A77](https://via.placeholder.com/15/415A77/415A77.png) `#415A77` (Queen Blue)\n",
       "- ![#778DA9](https://via.placeholder.com/15/778DA9/778DA9.png) `#778DA9` (Shadow Blue)\n",
       "- ![#E0E1DD](https://via.placeholder.com/15/E0E1DD/E0E1DD.png) `#E0E1DD` (Platinum)\n",
       "\n",
       "### Palette 2\n",
       "- ![#1A1A2E](https://via.placeholder.com/15/1A1A2E/1A1A2E.png) `#1A1A2E` (Space Cadet)\n",
       "- ![#16213E](https://via.placeholder.com/15/16213E/16213E.png) `#16213E` (Maastricht Blue)\n",
       "- ![#0F3460](https://via.placeholder.com/15/0F3460/0F3460.png) `#0F3460` (Prussian Blue)\n",
       "- ![#53354A](https://via.placeholder.com/15/53354A/53354A.png) `#53354A` (Old Mauve)\n",
       "- ![#E94560](https://via.placeholder.com/15/E94560/E94560.png) `#E94560` (Imperial Red)\n",
       "\n",
       "These palettes are stored as `dark_palette_1` and `dark_palette_2` respectively. You can use these colors to create a cohesive and visually appealing dark theme for your portfolio site."
      ],
      "text/plain": [
       "I have created two color palettes for your portfolio site with a dark theme:\n",
       "\n",
       "### Palette 1\n",
       "- ![#0D1B2A](https://via.placeholder.com/15/0D1B2A/0D1B2A.png) `#0D1B2A` (Gunmetal)\n",
       "- ![#1B263B](https://via.placeholder.com/15/1B263B/1B263B.png) `#1B263B` (Dark Blue Gray)\n",
       "- ![#415A77](https://via.placeholder.com/15/415A77/415A77.png) `#415A77` (Queen Blue)\n",
       "- ![#778DA9](https://via.placeholder.com/15/778DA9/778DA9.png) `#778DA9` (Shadow Blue)\n",
       "- ![#E0E1DD](https://via.placeholder.com/15/E0E1DD/E0E1DD.png) `#E0E1DD` (Platinum)\n",
       "\n",
       "### Palette 2\n",
       "- ![#1A1A2E](https://via.placeholder.com/15/1A1A2E/1A1A2E.png) `#1A1A2E` (Space Cadet)\n",
       "- ![#16213E](https://via.placeholder.com/15/16213E/16213E.png) `#16213E` (Maastricht Blue)\n",
       "- ![#0F3460](https://via.placeholder.com/15/0F3460/0F3460.png) `#0F3460` (Prussian Blue)\n",
       "- ![#53354A](https://via.placeholder.com/15/53354A/53354A.png) `#53354A` (Old Mauve)\n",
       "- ![#E94560](https://via.placeholder.com/15/E94560/E94560.png) `#E94560` (Imperial Red)\n",
       "\n",
       "These palettes are stored as `dark_palette_1` and `dark_palette_2` respectively. You can use these colors to create a cohesive and visually appealing dark theme for your portfolio site."
      ]
     },
     "metadata": {
      "text/markdown": {
       "chatlab": {
        "default": true
       }
      }
     },
     "output_type": "display_data"
    }
   ],
   "source": [
    "await chat(\"Create two palettes for a portfolio site with a dark theme.\")"
   ]
  },
  {
   "cell_type": "code",
   "execution_count": 3,
   "metadata": {},
   "outputs": [
    {
     "data": {
      "text/html": [
       "<div><div style=\"background-color:#2FFF00; width:50px; height:50px; display:inline-block;\"></div><div style=\"background-color:#FF2D00; width:50px; height:50px; display:inline-block;\"></div><div style=\"background-color:#00D0FF; width:50px; height:50px; display:inline-block;\"></div><div style=\"background-color:#FF00E5; width:50px; height:50px; display:inline-block;\"></div><div style=\"background-color:#FFD300; width:50px; height:50px; display:inline-block;\"></div></div>"
      ],
      "text/plain": [
       "Palette(['#2FFF00', '#FF2D00', '#00D0FF', '#FF00E5', '#FFD300'], neon_palette_2)"
      ]
     },
     "metadata": {},
     "output_type": "display_data"
    },
    {
     "data": {
      "text/html": [
       "<div><div style=\"background-color:#0F0; width:50px; height:50px; display:inline-block;\"></div><div style=\"background-color:#FF0; width:50px; height:50px; display:inline-block;\"></div><div style=\"background-color:#0FF; width:50px; height:50px; display:inline-block;\"></div><div style=\"background-color:#F0F; width:50px; height:50px; display:inline-block;\"></div><div style=\"background-color:#F00; width:50px; height:50px; display:inline-block;\"></div></div>"
      ],
      "text/plain": [
       "Palette(['#0F0', '#FF0', '#0FF', '#F0F', '#F00'], neon_palette_1)"
      ]
     },
     "metadata": {},
     "output_type": "display_data"
    },
    {
     "data": {
      "text/markdown": [
       "I have created two neon color palettes for your portfolio site:\n",
       "\n",
       "### Neon Palette 1\n",
       "- ![#0F0](https://via.placeholder.com/15/0F0/0F0.png) `#0F0` (Electric Green)\n",
       "- ![#FF0](https://via.placeholder.com/15/FF0/FF0.png) `#FF0` (Electric Yellow)\n",
       "- ![#0FF](https://via.placeholder.com/15/0FF/0FF.png) `#0FF` (Electric Cyan)\n",
       "- ![#F0F](https://via.placeholder.com/15/F0F/F0F.png) `#F0F` (Electric Purple)\n",
       "- ![#F00](https://via.placeholder.com/15/F00/F00.png) `#F00` (Electric Red)\n",
       "\n",
       "### Neon Palette 2\n",
       "- ![#2FFF00](https://via.placeholder.com/15/2FFF00/2FFF00.png) `#2FFF00` (Neon Green)\n",
       "- ![#FF2D00](https://via.placeholder.com/15/FF2D00/FF2D00.png) `#FF2D00` (Neon Red)\n",
       "- ![#00D0FF](https://via.placeholder.com/15/00D0FF/00D0FF.png) `#00D0FF` (Neon Blue)\n",
       "- ![#FF00E5](https://via.placeholder.com/15/FF00E5/FF00E5.png) `#FF00E5` (Neon Pink)\n",
       "- ![#FFD300](https://via.placeholder.com/15/FFD300/FFD300.png) `#FFD300` (Neon Yellow)\n",
       "\n",
       "These palettes are stored as `neon_palette_1` and `neon_palette_2` respectively. They feature bright, vivid colors that can add a dynamic and energetic feel to your dark-themed portfolio site."
      ],
      "text/plain": [
       "I have created two neon color palettes for your portfolio site:\n",
       "\n",
       "### Neon Palette 1\n",
       "- ![#0F0](https://via.placeholder.com/15/0F0/0F0.png) `#0F0` (Electric Green)\n",
       "- ![#FF0](https://via.placeholder.com/15/FF0/FF0.png) `#FF0` (Electric Yellow)\n",
       "- ![#0FF](https://via.placeholder.com/15/0FF/0FF.png) `#0FF` (Electric Cyan)\n",
       "- ![#F0F](https://via.placeholder.com/15/F0F/F0F.png) `#F0F` (Electric Purple)\n",
       "- ![#F00](https://via.placeholder.com/15/F00/F00.png) `#F00` (Electric Red)\n",
       "\n",
       "### Neon Palette 2\n",
       "- ![#2FFF00](https://via.placeholder.com/15/2FFF00/2FFF00.png) `#2FFF00` (Neon Green)\n",
       "- ![#FF2D00](https://via.placeholder.com/15/FF2D00/FF2D00.png) `#FF2D00` (Neon Red)\n",
       "- ![#00D0FF](https://via.placeholder.com/15/00D0FF/00D0FF.png) `#00D0FF` (Neon Blue)\n",
       "- ![#FF00E5](https://via.placeholder.com/15/FF00E5/FF00E5.png) `#FF00E5` (Neon Pink)\n",
       "- ![#FFD300](https://via.placeholder.com/15/FFD300/FFD300.png) `#FFD300` (Neon Yellow)\n",
       "\n",
       "These palettes are stored as `neon_palette_1` and `neon_palette_2` respectively. They feature bright, vivid colors that can add a dynamic and energetic feel to your dark-themed portfolio site."
      ]
     },
     "metadata": {
      "text/markdown": {
       "chatlab": {
        "default": true
       }
      }
     },
     "output_type": "display_data"
    }
   ],
   "source": [
    "await chat(\"Can you make a neon version now?\")"
   ]
  }
 ],
 "metadata": {
  "kernelspec": {
   "display_name": "chatlab-3kMKfU-i-py3.11",
   "language": "python",
   "name": "python3"
  },
  "language_info": {
   "codemirror_mode": {
    "name": "ipython",
    "version": 3
   },
   "file_extension": ".py",
   "mimetype": "text/x-python",
   "name": "python",
   "nbconvert_exporter": "python",
   "pygments_lexer": "ipython3",
   "version": "3.12.1"
  }
 },
 "nbformat": 4,
 "nbformat_minor": 2
}
